{
 "cells": [
  {
   "cell_type": "markdown",
   "id": "3c9a7181",
   "metadata": {},
   "source": [
    "### Ejercicio regresión polinomial"
   ]
  },
  {
   "cell_type": "markdown",
   "id": "ba688484",
   "metadata": {},
   "source": [
    "#### Utilizando los modelos de regresión vistos hasta ahora, genera el modelo que mejor se adapte a los datos adjuntos. La pregunta objetivo es: ¿Cuál es la longitud del pez bluegill en función de su edad?"
   ]
  },
  {
   "cell_type": "markdown",
   "id": "cef6f76c",
   "metadata": {},
   "source": [
    "#### En 1981, 78 diferentes peces bluegills fueron aleatoriamente caracterizados según su longitud y edad de un lago de Minnesota. Los investigadores midieron y grabaron los datos que se adjuntan."
   ]
  },
  {
   "cell_type": "markdown",
   "id": "04d1af94",
   "metadata": {},
   "source": [
    "##### 1) Importar librerías"
   ]
  },
  {
   "cell_type": "code",
   "execution_count": 2,
   "id": "84f07643",
   "metadata": {},
   "outputs": [
    {
     "name": "stdout",
     "output_type": "stream",
     "text": [
      "Defaulting to user installation because normal site-packages is not writeable\n",
      "Requirement already satisfied: plotly in c:\\anaconda\\lib\\site-packages (5.9.0)\n",
      "Requirement already satisfied: tenacity>=6.2.0 in c:\\anaconda\\lib\\site-packages (from plotly) (8.2.2)\n"
     ]
    }
   ],
   "source": [
    "!pip install plotly\n",
    "import numpy as np\n",
    "import pandas as pd\n",
    "import matplotlib.pyplot as plt\n",
    "from sklearn.pipeline import Pipeline\n",
    "from sklearn.model_selection import train_test_split\n",
    "from sklearn.linear_model import LinearRegression\n",
    "from sklearn.preprocessing import PolynomialFeatures, StandardScaler"
   ]
  },
  {
   "cell_type": "markdown",
   "id": "13be9df2",
   "metadata": {},
   "source": [
    "##### 2) Leer y visualizar los datos"
   ]
  },
  {
   "cell_type": "code",
   "execution_count": 4,
   "id": "99f45e98",
   "metadata": {},
   "outputs": [
    {
     "name": "stdout",
     "output_type": "stream",
     "text": [
      "[1, 1, 2, 2, 2, 2, 3, 3, 3, 3, 3, 3, 3, 3, 3, 2, 3, 4, 4, 4, 4, 4, 4, 4, 4, 4, 4, 4, 4, 4, 4, 4, 4, 4, 4, 4, 4, 5, 4, 4, 4, 5, 2, 2, 4, 3, 4, 3, 4, 4, 4, 4, 3, 3, 3, 4, 4, 3, 4, 5, 4, 5, 4, 4, 3, 5, 5, 4, 5, 3, 4, 3, 4, 6, 4, 5, 4, 4]\n",
      "[67, 62, 109, 83, 91, 88, 137, 131, 122, 122, 118, 115, 131, 143, 142, 123, 122, 138, 135, 146, 146, 145, 145, 144, 140, 150, 152, 157, 155, 153, 154, 158, 162, 161, 162, 165, 171, 171, 162, 169, 167, 188, 100, 109, 150, 140, 170, 150, 140, 140, 150, 150, 140, 150, 150, 150, 160, 140, 150, 170, 150, 150, 150, 150, 150, 150, 160, 140, 160, 130, 160, 130, 170, 170, 160, 180, 160, 170]\n"
     ]
    },
    {
     "data": {
      "image/png": "[encoded data removed]",
      "text/plain": [
       "<Figure size 640x480 with 1 Axes>"
      ]
     },
     "metadata": {},
     "output_type": "display_data"
    }
   ],
   "source": [
    "#Open the file 'Datos mojarra americana.txt' for reading\n",
    "with open('Datos mojarra americana.txt', 'r') as doc:\n",
    "    #Read the lines from the file into the dataset list\n",
    "    dataset = doc.readlines()\n",
    "#Initialize empty lists to store the values of the columns\n",
    "age = []\n",
    "length = []\n",
    "#Loop through the rows in dataset starting from the second line (index 1). First line is the title\n",
    "for row in dataset[1:]:\n",
    "    #For each row, use .strip() to remove leading and trailing whitespace \n",
    "    # .split('\\t') to split the row into a list of columns using tab as the delimiter\n",
    "    columns = row.strip().split('\\t')\n",
    "    #Convert the columns' value to integers using int(columns[n]) and append them to the list.\n",
    "    age.append(int(columns[0]))\n",
    "    length.append(int(columns[1]))\n",
    "#Print the lists containing the values of the columns\n",
    "print(age)\n",
    "print(length)\n",
    "#Plot the dataset\n",
    "plt.plot(age, length, 'b.')\n",
    "plt.xlabel(\"Age\")\n",
    "plt.ylabel(\"Length\")\n",
    "plt.show()"
   ]
  }
 ],
 "metadata": {
  "kernelspec": {
   "display_name": "Python 3 (ipykernel)",
   "language": "python",
   "name": "python3"
  },
  "language_info": {
   "codemirror_mode": {
    "name": "ipython",
    "version": 3
   },
   "file_extension": ".py",
   "mimetype": "text/x-python",
   "name": "python",
   "nbconvert_exporter": "python",
   "pygments_lexer": "ipython3",
   "version": "3.11.4"
  }
 },
 "nbformat": 4,
 "nbformat_minor": 5
}
