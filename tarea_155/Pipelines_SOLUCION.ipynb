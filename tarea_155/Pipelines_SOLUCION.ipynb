{
 "cells": [
  {
   "cell_type": "markdown",
   "id": "02c78be7",
   "metadata": {},
   "source": [
    "<h1 style=\"color: #5e9ca0;\"><span style=\"font-size: 36px;\"><span style=\"background-color: rgb(255, 255, 255); color: rgb(41, 105, 176);\">Pipelines</span><br></span></h1>\n",
    "\n",
    "<img src=\"https://p4.wallpaperbetter.com/wallpaper/586/209/104/grand-canal-rialto-bridge-venice-italy-wallpaper-preview.jpg\"\n",
    "     width=\"1000\"\n",
    "     height=\"401\"\n",
    "     title=\"Fuente: Venecian Canal - www.wallperpaper.es \">"
   ]
  },
  {
   "cell_type": "markdown",
   "id": "a32db009",
   "metadata": {},
   "source": [
    "<h2 style=\"color: #054978;\">CONTENIDO</h2>\n",
    "<a id='Notebook'></a>\n",
    "\n",
    "1. [Introducción](#intro)\n",
    "2. [Dataset](#dataset)\n",
    "3. [Análisis](#analisis)\n",
    "4.[Entrenamiento y testeo](#traintest)\n",
    "5.[El Pipeline](#pipeline)\n",
    "6.[Tipos de datos](#typedata)\n",
    "7. [Las columnas adecuadas](#rightcols)\n",
    "8. [El Modelo](#model)\n",
    "9. [Evaluando el modelo](#metrics)\n",
    "10.[Un paso más allá](#beyond)\n",
    "11.[ Conclusiones](#conclusions)\n",
    "12. [Fuentes](#fuentes)\n",
    "\n"
   ]
  },
  {
   "cell_type": "markdown",
   "id": "3d445446",
   "metadata": {},
   "source": [
    "<a id='intro'></a>\n",
    "<h2 style=\"color: #2e6c80;\">Introducción</h2>\n",
    "\n",
    "Los pipelines (tuberías) son una herramienta extremadamente simple pero muy útil para gestionar flujos de trabajo de machine learning.\n",
    "\n",
    "Una tarea típica de machine learning generalmente implica la preparación de datos EDA. No entraremos en la amplia gama de actividades que componen la preparación de datos aquí, pero hay muchas . \n",
    "\tEstas tareas son conocidas por ocupar una gran parte del tiempo dedicado a cualquier tarea de machine learning.\n",
    "\n",
    "Los pasos que se suelen seguir al trabajar con datos son la limpieza del conjunto de datos se limpia desde un estado inicial potencial de confusión masiva, sin embargo, todavía hay varios menos intensivo pero no por ello menos importantes pasos de preprocesamiento de datos de transformación, tales como la extracción de características , escala característica , y la reducción de dimensionalidad , por nombrar sólo algunos .\n",
    "\n",
    "Tal vez el preprocesamiento requiera solo una de estas transformaciones, como alguna forma de escalado. Pero tal vez necesites encadenar varias transformaciones juntas, y finalmente terminar con un estimador de algún tipo. Aquí es donde los [**pipelines**](https://scikit-learn.org/stable/modules/generated/sklearn.pipeline.Pipeline.html) de Scikit-learn pueden ser útiles.\n",
    "\n",
    "\n",
    "  <img src=\"https://cdn.hipwallpaper.com/i/17/86/D2LO5h.jpg\"\n",
    " width=\"500\"\n",
    " height=\"401\"\n",
    " title=\"Fuente: pipe tap wallpers | hipwallpers\">\n",
    " \n",
    "Para estas lecciones, volveremos a trabajar con el conjunto de datos de los coches americanos ya que se entiende muy bien lo que se quiere conseguir con cada visualización, que es comprender la relación entre el precio de un automóvil y sus características. \n",
    "\n",
    "### ¡Empecemos!\n"
   ]
  },
  {
   "cell_type": "code",
   "execution_count": 1,
   "id": "dec0cd8f",
   "metadata": {},
   "outputs": [],
   "source": [
    "from sklearn.datasets import load_iris\n",
    "from sklearn.model_selection import train_test_split\n",
    "from sklearn.preprocessing import StandardScaler\n",
    "from sklearn.decomposition import PCA\n",
    "from sklearn.pipeline import Pipeline\n",
    "import sklearn.externals\n",
    "import joblib\n",
    "from sklearn import svm\n",
    "from sklearn import tree"
   ]
  },
  {
   "cell_type": "code",
   "execution_count": 2,
   "id": "6370bda5",
   "metadata": {},
   "outputs": [],
   "source": [
    "# import pandas as pd\n",
    "# train_set = pd.read_csv('http://archive.ics.uci.edu/ml/machine-learning-databases/adult/adult.data', header = None)\n",
    "# test_set = pd.read_csv('http://archive.ics.uci.edu/ml/machine-learning-databases/adult/adult.test',\n",
    "#                       skiprows = 1, header = None) # Make sure to skip a row for the test set\n",
    "# col_labels = ['edad', 'clase_trabajo', 'Ingresos_censo_adultos ', 'educacion', 'nro_educacional',\n",
    "#               'estado_civil', 'ocupacion', \n",
    "#               'relacion', 'raza', 'sexo', 'ganancia-capital ', 'perdida_capital', 'horas_emana ', 'patria',\n",
    "#              'clase_salario']\n",
    "# train_set.columns = col_labels\n",
    "# test_set.columns = col_labels\n",
    "# train_set.to_csv('./train_edu.csv',index=False)\n",
    "# test_set.to_csv('./test_edu.csv',index=False)"
   ]
  },
  {
   "cell_type": "markdown",
   "id": "920d730f",
   "metadata": {},
   "source": [
    "<a id='dataset'></a>\n",
    "# 2. Dataset\n",
    "\n",
    "Se pide:\n",
    "- Importa los datasets de entrenamiento y testeo disponibles en la carpeta con el ejercicio.\n",
    "\n",
    "**3 líneas aprox.**"
   ]
  },
  {
   "cell_type": "code",
   "execution_count": 40,
   "id": "18149084",
   "metadata": {},
   "outputs": [],
   "source": [
    "import pandas as pd\n",
    "\n",
    "train_df = pd.read_csv('./train_edu.csv')\n",
    "test_df = pd.read_csv('./test_edu.csv')"
   ]
  },
  {
   "cell_type": "markdown",
   "id": "eb722dbf",
   "metadata": {},
   "source": [
    "<a id='analisis'></a>\n",
    "# 3. Análisis\n",
    "\n",
    "- ### 3.1. ¿De qué tipo son los datos?\n",
    "\n",
    "**1 línea aprox**"
   ]
  },
  {
   "cell_type": "code",
   "execution_count": 4,
   "id": "16258063",
   "metadata": {},
   "outputs": [
    {
     "data": {
      "text/plain": [
       "edad                        int64\n",
       "clase_trabajo              object\n",
       "Ingresos_censo_adultos      int64\n",
       "educacion                  object\n",
       "nro_educacional             int64\n",
       "estado_civil               object\n",
       "ocupacion                  object\n",
       "relacion                   object\n",
       "raza                       object\n",
       "sexo                       object\n",
       "ganancia-capital            int64\n",
       "perdida_capital             int64\n",
       "horas_emana                 int64\n",
       "patria                     object\n",
       "clase_salario              object\n",
       "dtype: object"
      ]
     },
     "execution_count": 4,
     "metadata": {},
     "output_type": "execute_result"
    }
   ],
   "source": [
    "# Que tipos de datos tenemos\n",
    "train_df.dtypes"
   ]
  },
  {
   "cell_type": "markdown",
   "id": "8303603a",
   "metadata": {},
   "source": [
    "- ### 3.2. ¿Hay algun valor nulo en las columnas?\n",
    "\n",
    "**1 línea aprox**"
   ]
  },
  {
   "cell_type": "code",
   "execution_count": 5,
   "id": "3f8eeeb0",
   "metadata": {},
   "outputs": [
    {
     "data": {
      "text/plain": [
       "edad                       0\n",
       "clase_trabajo              0\n",
       "Ingresos_censo_adultos     0\n",
       "educacion                  0\n",
       "nro_educacional            0\n",
       "estado_civil               0\n",
       "ocupacion                  0\n",
       "relacion                   0\n",
       "raza                       0\n",
       "sexo                       0\n",
       "ganancia-capital           0\n",
       "perdida_capital            0\n",
       "horas_emana                0\n",
       "patria                     0\n",
       "clase_salario              0\n",
       "dtype: int64"
      ]
     },
     "execution_count": 5,
     "metadata": {},
     "output_type": "execute_result"
    }
   ],
   "source": [
    "train_df.isnull().sum()"
   ]
  },
  {
   "cell_type": "markdown",
   "id": "6521c49b",
   "metadata": {},
   "source": [
    "\n",
    "- ### 3.3. ¿Cuáles son los valores de la variable a predecir?\n",
    "\n",
    "Se pide:\n",
    "- Visualiza los distintos valores dentro de la clase `clase_salario`.\n",
    "\n",
    "**1 línea aprox.**\n"
   ]
  },
  {
   "cell_type": "code",
   "execution_count": 41,
   "id": "dbc05d09",
   "metadata": {},
   "outputs": [
    {
     "data": {
      "text/plain": [
       "array([' <=50K', ' >50K'], dtype=object)"
      ]
     },
     "execution_count": 41,
     "metadata": {},
     "output_type": "execute_result"
    }
   ],
   "source": [
    "train_df['clase_salario'].unique()"
   ]
  },
  {
   "cell_type": "markdown",
   "id": "d7462725",
   "metadata": {},
   "source": [
    "<a id='traintest'></a>\n",
    "# 4. Entrenamiento y testeo\n",
    "\n",
    "Se pide:\n",
    "- Separa el dataset de entrenamiento y testeo siendo la columna `y_train` e `y_test` equivalentes a la columna `clase_salario`. La función [**`pop()`**](https://pandas.pydata.org/pandas-docs/stable/reference/api/pandas.DataFrame.pop.html) te puede ser de ayuda.\n",
    "- Vuelve las variables categóricas de la variable a predecir en variables numéricas. La función [**`replace()`**](https://pandas.pydata.org/pandas-docs/stable/reference/api/pandas.DataFrame.replace.html) te puede ayudar.\n",
    "\n",
    "**6 líneas aprox.**"
   ]
  },
  {
   "cell_type": "code",
   "execution_count": 7,
   "id": "0413ed7c",
   "metadata": {},
   "outputs": [
    {
     "data": {
      "text/plain": [
       "0         <=50K\n",
       "1         <=50K\n",
       "2         <=50K\n",
       "3         <=50K\n",
       "4         <=50K\n",
       "          ...  \n",
       "32556     <=50K\n",
       "32557      >50K\n",
       "32558     <=50K\n",
       "32559     <=50K\n",
       "32560      >50K\n",
       "Name: clase_salario, Length: 32561, dtype: object"
      ]
     },
     "execution_count": 7,
     "metadata": {},
     "output_type": "execute_result"
    }
   ],
   "source": [
    "y_train = train_df['clase_salario']\n",
    "y_test = test_df['clase_salario']\n",
    "train_df.pop('clase_salario')\n",
    "test_df.pop('clase_salario')\n",
    "y_train"
   ]
  },
  {
   "cell_type": "code",
   "execution_count": 9,
   "id": "b9ebf4ee",
   "metadata": {},
   "outputs": [],
   "source": [
    "y_train.replace({' <=50K': 0,  ' >50K': 1}, inplace = True)\n",
    "y_test.replace({' <=50K.': 0,  ' >50K.': 1}, inplace = True)"
   ]
  },
  {
   "cell_type": "markdown",
   "id": "c66a7fca",
   "metadata": {},
   "source": [
    "Afortunadamente, este conjunto de datos no tiene valores perdidos. Aunque parece que todas las características son numéricas, en realidad hay algunas características categóricas que debemos identificar. Por el bien de la ilustración, lo tratarémos como si tuvieran valores perdidos. \n",
    "\n",
    "Primero, filtremos algunas características, obviamente inútiles para este dataset, pero lo tendremos como ejemplo. "
   ]
  },
  {
   "cell_type": "markdown",
   "id": "c9cf801e",
   "metadata": {},
   "source": [
    "<a id='pipeline'></a>\n",
    "# 5. El Pipeline\n",
    "\n",
    "El parámetro principal de una `pipeline` en la que trabajaremos son los \"pasos\". Es decir,una \"lista de (nombre, proceso) que están encadenadas en el orden, con el último objeto un estimador.\n",
    "\n",
    "Ejemplo: \n",
    "<blockquote>\n",
    "    <pre class=\"nd ne nf ng nh ni nj nk\"><span class=\"ic nl md gv nm b df nn no s np\"><span style=\"background-color: rgb(247, 218, 100);\">Pipeline</span>(steps=[(&apos;<span style=\"color: rgb(226, 80, 65);\">nombre del proceso</span>&apos;, <strong>proceso()</strong>),\n",
    "                (&apos;<span style=\"color: rgb(235, 107, 86);\">nombre modelo</span>&apos;, <strong>modelo()</strong>)])</span></pre>\n",
    "</blockquote>\n",
    "\n"
   ]
  },
  {
   "cell_type": "code",
   "execution_count": 10,
   "id": "22363a83",
   "metadata": {},
   "outputs": [],
   "source": [
    "from sklearn.preprocessing import StandardScaler, OrdinalEncoder\n",
    "from sklearn.impute import SimpleImputer\n",
    "from sklearn.compose import ColumnTransformer\n",
    "from sklearn.pipeline import Pipeline"
   ]
  },
  {
   "cell_type": "markdown",
   "id": "15c92465",
   "metadata": {},
   "source": [
    "<a id='typedata'></a>\n",
    "# 6. Tipos de datos\n",
    "\n",
    "En primer lugar, necesitamos definir los transformadores para características tanto numéricas como categóricas. \n",
    "Se adjunta el objeto para trabajar con las columnas numéricas del dataset. Aún nos falta definir lcómo vamos a trabajar con variables categóricas. "
   ]
  },
  {
   "cell_type": "code",
   "execution_count": 11,
   "id": "4579fd16",
   "metadata": {},
   "outputs": [],
   "source": [
    "# Transformaciones para las variables numéricas\n",
    "numeric_transformer = Pipeline(\n",
    "                        steps=[\n",
    "                            ('imputer', SimpleImputer(strategy='median')),\n",
    "                            ('scaler', StandardScaler())\n",
    "                        ]\n",
    "                      )"
   ]
  },
  {
   "cell_type": "markdown",
   "id": "1db4bee3",
   "metadata": {},
   "source": [
    "Se pide:\n",
    "- Define el nombre del transformador de las variables categóricas.\n",
    "- El primer paso vá a ser el uso de [**`SimpleImputer()`**](https://interactivechaos.com/es/python/function/simpleimputer) para eliminar valores faltantes. La estrategia la dejamos a vuestro criterio.\n",
    "- El siguiente uso que vamos a darle es el uso de [**`LabelEnconding()`**](https://interactivechaos.com/es/manual/tutorial-de-machine-learning/label-encoding). Como este **no acepta** el uso de tuberías usaremos su equivalente [**`OrdinalEncoder`**](https://scikit-learn.org/stable/modules/generated/sklearn.preprocessing.OrdinalEncoder.html). Esto nos servirá para codificar las características categóricas. \n",
    "\n",
    "**1 línea aprox.**"
   ]
  },
  {
   "cell_type": "code",
   "execution_count": 12,
   "id": "092394cd",
   "metadata": {},
   "outputs": [],
   "source": [
    "categorical_transformer = Pipeline(steps=[\n",
    "       ('imputer', SimpleImputer(strategy='constant'))\n",
    "      ,('encoder', OrdinalEncoder())\n",
    "])"
   ]
  },
  {
   "cell_type": "markdown",
   "id": "8d0181be",
   "metadata": {},
   "source": [
    "<a id='rightcols'></a>\n",
    "# 7. Las columnas adecuadas\n",
    "\n",
    "Lo siguiente que debemos hacer es especificar qué columnas son numéricas y cuáles son categóricas, para que podamos aplicar los transformadores en consecuencia. \n",
    "Aplicamos los transformadores a las características mediante la propiedad  [**`ColumnTransformer()`**](https://www.it-swarm-es.com/es/python/como-usar-sklearn-column-transformer/809443066/). La cual aplica los procesos a ciertas columnas seleccionadas por nosotros.\n",
    "\n",
    "**3 líneas aprox.**"
   ]
  },
  {
   "cell_type": "code",
   "execution_count": 13,
   "id": "04082c1d",
   "metadata": {},
   "outputs": [],
   "source": [
    "numeric_features = train_df.select_dtypes('int64').columns\n",
    "objects_features = train_df.select_dtypes('object').columns\n",
    "\n",
    "preprocessor = ColumnTransformer(\n",
    "   transformers=[\n",
    "    ('numeric', numeric_transformer, numeric_features)\n",
    "   ,('categorical', categorical_transformer, objects_features)\n",
    "]) "
   ]
  },
  {
   "cell_type": "markdown",
   "id": "8e4d60a7",
   "metadata": {},
   "source": [
    "<a id='model'></a>\n",
    "# 8. El modelo\n",
    "\n",
    "Después de ensamblar nuestro preprocesador de columnas, podemos agregar el modelo, que es el algoritmo de aprendizaje automático. Dado que en este caso, la variable de destino es continua, aplicarémos el modelo de regresión aleatoria de bosque.\n",
    "\n",
    "Se pide:\n",
    "- Crea el pipeline final.\n",
    "\n",
    "Se adjunta un ejemplo [aquí](https://www.analyticslane.com/2019/02/04/automatizacion-del-procesado-de-datos-en-scikit-learn-con-pipeline/).\n",
    "\n",
    "**2 líneas aprox.**"
   ]
  },
  {
   "cell_type": "code",
   "execution_count": 14,
   "id": "9d7bc71c",
   "metadata": {},
   "outputs": [],
   "source": [
    "from sklearn.ensemble import RandomForestClassifier\n",
    "\n",
    "pipeline = Pipeline(steps = [\n",
    "               ('preprocessor', preprocessor)\n",
    "              ,('regressor',RandomForestClassifier(max_depth=2, random_state=0))\n",
    "           ])"
   ]
  },
  {
   "cell_type": "markdown",
   "id": "da730a7f",
   "metadata": {},
   "source": [
    "Para crear el modelo, similar a lo que solíamos hacer con un algoritmo de aprendizaje automático, usamos la función \"ajustar\" o `fit` de la canalización. \n",
    "\n",
    "Se pide:\n",
    "- Ajusta el modelo y visualiza el resultado con un simple `print`.\n",
    "\n",
    "**2 líneas aprox.**"
   ]
  },
  {
   "cell_type": "code",
   "execution_count": 15,
   "id": "5afdae29",
   "metadata": {},
   "outputs": [
    {
     "name": "stdout",
     "output_type": "stream",
     "text": [
      "Pipeline(steps=[('preprocessor',\n",
      "                 ColumnTransformer(transformers=[('numeric',\n",
      "                                                  Pipeline(steps=[('imputer',\n",
      "                                                                   SimpleImputer(strategy='median')),\n",
      "                                                                  ('scaler',\n",
      "                                                                   StandardScaler())]),\n",
      "                                                  Index(['edad', 'Ingresos_censo_adultos ', 'nro_educacional',\n",
      "       'ganancia-capital ', 'perdida_capital', 'horas_emana '],\n",
      "      dtype='object')),\n",
      "                                                 ('categorical',\n",
      "                                                  Pipeline(steps=[('imputer',\n",
      "                                                                   SimpleImputer(strategy='constant')),\n",
      "                                                                  ('encoder',\n",
      "                                                                   OrdinalEncoder())]),\n",
      "                                                  Index(['clase_trabajo', 'educacion', 'estado_civil', 'ocupacion', 'relacion',\n",
      "       'raza', 'sexo', 'patria'],\n",
      "      dtype='object'))])),\n",
      "                ('regressor',\n",
      "                 RandomForestClassifier(max_depth=2, random_state=0))])\n"
     ]
    }
   ],
   "source": [
    "rf_model = pipeline.fit(train_df, y_train)\n",
    "print (rf_model)"
   ]
  },
  {
   "cell_type": "markdown",
   "id": "b2931c96",
   "metadata": {},
   "source": [
    "<a id='metrics'></a>\n",
    "# 9. Evaluando el modelo\n",
    "\n",
    "###  De estos dos cúal sirve?¿\n",
    "\n",
    "Predice los valores en el dataset de testeo y...elíge.\n",
    "\n",
    "> ¿Cuál crees que es la métrica que nos sirve en nuestro caso?\n",
    "\n",
    "- a) Error Absoluto medio, [MAE](https://scikit-learn.org/stable/modules/generated/sklearn.metrics.mean_absolute_error.html#sklearn.metrics.mean_absolute_error)\n",
    "\n",
    "- b) Precisión, [Accuracy](https://scikit-learn.org/stable/modules/generated/sklearn.metrics.accuracy_score.html#sklearn.metrics.accuracy_score)\n",
    "\n",
    "- c) Precisión de aciertos y fallos , [Recall](https://scikit-learn.org/stable/modules/generated/sklearn.metrics.recall_score.html#sklearn.metrics.recall_score)\n",
    "\n",
    "Se pide:\n",
    "- Prueba las 3 métricas y decide.\n",
    "\n",
    "**8 líneas aprox.**"
   ]
  },
  {
   "cell_type": "code",
   "execution_count": 22,
   "id": "0128e1e1",
   "metadata": {},
   "outputs": [
    {
     "data": {
      "text/plain": [
       "(0.807198575026104, 0.19280142497389596)"
      ]
     },
     "execution_count": 22,
     "metadata": {},
     "output_type": "execute_result"
    }
   ],
   "source": [
    "from sklearn.metrics import mean_absolute_error\n",
    "from sklearn.metrics import accuracy_score\n",
    "from sklearn.metrics import recall_score\n",
    "\n",
    "\n",
    "results = rf_model.predict(test_df)\n",
    "\n",
    "\n",
    "recall = recall_score(results, y_test, average='macro')\n",
    "accuracy = accuracy_score(results, y_test)\n",
    "mae = mean_absolute_error(results, y_test)\n",
    "accuracy, mae, recall"
   ]
  },
  {
   "cell_type": "markdown",
   "id": "6192c169",
   "metadata": {},
   "source": [
    "<a id='beyond'></a>\n",
    "# 10. Un paso más allá\n",
    "\n",
    "Qué pasa si cada modelo funciona mejor en una casuística distinta. Es verdad que no nos podemos casar con ningun lenguaje de programación. También debemos de aplicar este concepto a la hora de elegir modelos. Por ello, al igual que hemos visto anteriormente en las tareas `GridSearch` y `BayesianSearch`, por que no hacer un canal para probar distintos modelos y ver cual funciona mejor?\n",
    "\n",
    "Lo que haremos a continuación es construir 3 pipelines , cada una con un estimador diferente (algoritmo de clasificación), usando hiperparámetros predeterminados:\n",
    "\n",
    "- Random Forest...**¡hecho!**\n",
    "- [LightGBM](https://www.kaggle.com/macespinoza/clasificador-simple-lightgbm-espa-ol) para clasificación...\n",
    "- Mi favorito, [XGBoost](https://ichi.pro/es/ejemplo-de-clasificacion-de-etiquetas-multiples-con-multioutputclassifier-y-xgboost-en-python-167986044155807)...\n",
    "\n",
    "Se pide:\n",
    "- Prepara un `Pipeline` para cada modelo basandote en el modelo creado.\n",
    "\n",
    "**4 líneas aprox.**"
   ]
  },
  {
   "cell_type": "code",
   "execution_count": 27,
   "id": "8940a6cd",
   "metadata": {},
   "outputs": [],
   "source": [
    "from lightgbm import LGBMClassifier\n",
    "from xgboost import XGBClassifier\n",
    "\n",
    "# fit model no training data\n",
    "pipe_rf = Pipeline(steps = [\n",
    "               ('preprocessor', preprocessor)\n",
    "              ,('regressor',RandomForestClassifier())\n",
    "           ])\n",
    "\n",
    "\n",
    "pipe_xg = Pipeline([\n",
    "                ('preprocessor', preprocessor),\n",
    "                ('clf', XGBClassifier())\n",
    "            ])\n",
    "\n",
    "pipe_gbm = Pipeline([\n",
    "                ('preprocessor', preprocessor),\n",
    "                ('clf', LGBMClassifier())\n",
    "            ])"
   ]
  },
  {
   "cell_type": "markdown",
   "id": "c826442b",
   "metadata": {},
   "source": [
    "> Una vez creados los tres pipes de los modelos. Vamos a entrenarlos mediante la propiedad `fit`. \n",
    "\n",
    "Se pide:\n",
    "- Genera una lista con las distintas \"tuberías\" creadas a partir de los modelos.\n",
    "- Genera un bucle for para ir ajustando cada objeto `pipe` dentro del bucle con la propiedad `fit`.\n",
    "\n",
    "**3 líneas aprox**"
   ]
  },
  {
   "cell_type": "code",
   "execution_count": 35,
   "id": "33ec73b1",
   "metadata": {},
   "outputs": [
    {
     "name": "stderr",
     "output_type": "stream",
     "text": [
      "c:\\users\\jjari\\.conda\\envs\\lovelace\\lib\\site-packages\\xgboost\\sklearn.py:1146: UserWarning: The use of label encoder in XGBClassifier is deprecated and will be removed in a future release. To remove this warning, do the following: 1) Pass option use_label_encoder=False when constructing XGBClassifier object; and 2) Encode your labels (y) as integers starting with 0, i.e. 0, 1, 2, ..., [num_class - 1].\n",
      "  warnings.warn(label_encoder_deprecation_msg, UserWarning)\n"
     ]
    },
    {
     "name": "stdout",
     "output_type": "stream",
     "text": [
      "[18:29:45] WARNING: C:/Users/Administrator/workspace/xgboost-win64_release_1.4.0/src/learner.cc:1095: Starting in XGBoost 1.3.0, the default evaluation metric used with the objective 'binary:logistic' was changed from 'error' to 'logloss'. Explicitly set eval_metric if you'd like to restore the old behavior.\n"
     ]
    }
   ],
   "source": [
    "\n",
    "# List of pipelines for ease of iteration\n",
    "pipelines = [pipe_rf, pipe_xg, pipe_gbm]\n",
    "\n",
    "# Fit the pipelines\n",
    "for pipe in pipelines:\n",
    "    pipe.fit(train_df, y_train)"
   ]
  },
  {
   "cell_type": "markdown",
   "id": "620c878a",
   "metadata": {},
   "source": [
    "Compara las precisiones de los distintos modelos. Para ello, una vez más ejecutaremos un bucle y calcularemos el resultado de cada modelo.\n",
    "Por último, visualizaremos los resultados.\n",
    "\n",
    "Se pide:\n",
    "- Mediante un bucle for, calcula con la métrica de precisión, el resultado del modelo.\n",
    "-Visualiza los resultados. La métrica [**`accuracy`**](https://scikit-learn.org/stable/modules/generated/sklearn.metrics.accuracy_score.html) te puede ser de ayuda.\n",
    "- Guarda el modelo que mejor resultado tenga.\n",
    "\n",
    "**7 líneas aprox. líneas aprox.**"
   ]
  },
  {
   "cell_type": "code",
   "execution_count": 38,
   "id": "d00b206d",
   "metadata": {},
   "outputs": [
    {
     "name": "stdout",
     "output_type": "stream",
     "text": [
      "Clasificador Random Forest pipeline test accuracy: 0.857\n",
      "Clasificador LightGBM pipeline test accuracy: 0.870\n",
      "Clasificador XGBoost pipeline test accuracy: 0.872\n",
      "Classifier with best accuracy: Clasificador XGBoost\n"
     ]
    }
   ],
   "source": [
    "pipe_dict = {0: 'Clasificador Random Forest', 1: 'Clasificador LightGBM', 2: 'Clasificador XGBoost'}\n",
    "\n",
    "# Identify the most accurate model on test data\n",
    "best_acc = 0.0\n",
    "best_clf = 0\n",
    "best_pipe = ''\n",
    "\n",
    "for idx, model in enumerate(pipelines):\n",
    "    print('%s pipeline test accuracy: %.3f' % (pipe_dict[idx], model.score(test_df, y_test)))\n",
    "    \n",
    "    if model.score(test_df, y_test) > best_acc:\n",
    "        best_acc = model.score(test_df, y_test)\n",
    "        best_pipe = val\n",
    "        best_clf = idx\n",
    "print('\\nClassifier with best accuracy: %s' % pipe_dict[best_clf])"
   ]
  },
  {
   "cell_type": "markdown",
   "id": "30935502",
   "metadata": {},
   "source": [
    "<a id='conclusions'></a>\n",
    "<h2><span style=\"font-family: Arial, Helvetica, sans-serif; color: rgb(41, 105, 176); font-size: 30px;\">\n",
    "    11. Conclusiones</span></h2>\n",
    "    \n",
    "Estamos llegando a la recta final del Segundo modulo. En esta tarea hemos visto el uso de los canales. Cabe tener en cuenta que los `Pipelines` son muy potentes, pero únicamente nos servirán a la hora de trabajar con datos que hayamos trabajado anteriormente y de los cuales sepamos cómo funcionan o de que pecan.\n",
    "\n",
    "Por ejemplo, podríamos usar esta tecnología a la hora de haber creado un modelo chulo con un cliente y debido a los problemas para extraer datos a tiempo real nos vayan entregando los datos de manera periódica (semanal) mediante una API.\n",
    "\n",
    "<img src=\"https://media1.tenor.com/images/de8317df9cded7bc6773ef193f2aaf8a/tenor.gif\"\n",
    " width=\"600\"\n",
    " height=\"250\"\n",
    " title=\"Fuente: Real life pipelines - www.quora.com\">\n",
    " \n",
    "En ese caso, tener un conducto automatizado para poder darle una respuesta rápida al cliente es fundamental.\n",
    "En las próximas publicaciones, veremos estos problemas adicionales y veremos cómo encajar estas piezas para hacer que el uso de las canalizaciones sea mucho más poderoso de lo que parece en nuestro ejemplo inicial.\n",
    "> @Egger, que sepas que has empezado a crear plantillas muy interesantes para poder usar en el futuro en ejemplos reales.\n",
    "\n",
    "\n",
    "\n",
    "\n",
    "\n"
   ]
  },
  {
   "cell_type": "markdown",
   "id": "db9cba14",
   "metadata": {},
   "source": [
    "<a id='fuentes'></a>\n",
    "# 12. Fuentes\n",
    "\n",
    "\n",
    ".\n",
    "<p style='margin-top:0cm;margin-right:0cm;margin-bottom:8.0pt;margin-left:0cm;line-height:107%;font-size:11px;font-family:\"Arial\",sans-serif;'><span style=\"font-size: 16px;\">Gridsearch - <a href=\"https://www.analyticslane.com/2018/07/02/gridsearchcv/\">Analyticslane</a></span></p>\n",
    "<p style='margin-top:0cm;margin-right:0cm;margin-bottom:8.0pt;margin-left:0cm;line-height:107%;font-size:11px;font-family:\"Arial\",sans-serif;'><span style=\"font-size: 16px;\">Selecci&oacute;n autom&aacute;tica de modelos - <a href=\"https://www.analyticslane.com/2019/02/18/seleccionar-automaticamente-los-modelos-en-python-con-gridsearchcv/\">Analyticslane</a></span></p>\n",
    "<p style='margin-top:0cm;margin-right:0cm;margin-bottom:8.0pt;margin-left:0cm;line-height:107%;font-size:11px;font-family:\"Arial\",sans-serif;'><span style=\"font-size: 16px;\">Pipelines use II - <a href=\"https://medium.com/datos-y-ciencia/gesti%C3%B3n-de-flujos-de-trabajo-de-aprendizaje-autom%C3%A1tico-con-pipelines-de-scikit-learn-parte-2-eeecab194d83\">Medium-MateoMayo</a></span></p>\n",
    "<p style='margin-top:0cm;margin-right:0cm;margin-bottom:8.0pt;margin-left:0cm;line-height:107%;font-size:11px;font-family:\"Arial\",sans-serif;'><span style=\"font-size: 16px;\">Pipelines use I - <a href=\"https://medium.com/datos-y-ciencia/gesti%C3%B3n-de-flujos-de-trabajo-de-machine-learning-con-pipelines-de-scikit-learn-parte-1-una-8a37fcc7c1d0\">Medium-MateoMayo</a></span></p>\n",
    "<p style='margin-top:0cm;margin-right:0cm;margin-bottom:8.0pt;margin-left:0cm;line-height:107%;font-size:11px;font-family:\"Arial\",sans-serif;'><span style=\"font-size: 16px;\">ML pipelines - <a href=\"https://www.kdnuggets.com/2017/12/managing-machine-learning-workflows-scikit-learn-pipelines-part-1.html\">KDnugget</a></span></p>\n",
    "<p style='margin-top:0cm;margin-right:0cm;margin-bottom:8.0pt;margin-left:0cm;line-height:107%;font-size:11px;font-family:\"Arial\",sans-serif;'><span style=\"font-size: 16px;\">Pandas and UCI dataset - <a href=\"https://www.kaggle.com/kashnitsky/a1-demo-pandas-and-uci-adult-dataset-solution\">Kaggle</a></span></p>\n",
    "<p style='margin-top:0cm;margin-right:0cm;margin-bottom:8.0pt;margin-left:0cm;line-height:107%;font-size:11px;font-family:\"Arial\",sans-serif;'><span style=\"font-size: 16px;\">Automatic model selector &ndash; <a href=\"https://www.analyticslane.com/2019/02/18/seleccionar-automaticamente-los-modelos-en-python-con-gridsearchcv/\">AnalyticsLane</a></span></p>\n",
    "<p style='margin-top:0cm;margin-right:0cm;margin-bottom:8.0pt;margin-left:0cm;line-height:107%;font-size:11px;font-family:\"Arial\",sans-serif;'><span style=\"font-size: 16px;\">Cleaning data analysis using pandas &amp; pipes &ndash; <a href=\"https://towardsdatascience.com/cleaner-data-analysis-with-pandas-using-pipes-4d73770fbf3c\">Toward Data Science</a></span></p>\n",
    "<p style='margin-top:0cm;margin-right:0cm;margin-bottom:8.0pt;margin-left:0cm;line-height:107%;font-size:11px;font-family:\"Arial\",sans-serif;'><span style=\"font-size: 16px;\">Pipelines &ndash; <a href=\"https://www.cienciadedatos.net/documentos/py06_machine_learning_python_scikitlearn.html\">Cienciadedatos.net</a></span></p>\n",
    "<p style='margin-top:0cm;margin-right:0cm;margin-bottom:8.0pt;margin-left:0cm;line-height:107%;font-size:11px;font-family:\"Arial\",sans-serif;'><span style=\"font-size: 16px;\">M&eacute;tricas -<a href=\"https://scikit-learn.org/stable/modules/model_evaluation.html#scoring-parameter\">Scikit-Learn</a></span></p>"
   ]
  },
  {
   "cell_type": "code",
   "execution_count": null,
   "id": "00a69e33",
   "metadata": {},
   "outputs": [],
   "source": []
  }
 ],
 "metadata": {
  "kernelspec": {
   "display_name": "Python 3",
   "language": "python",
   "name": "python3"
  },
  "language_info": {
   "codemirror_mode": {
    "name": "ipython",
    "version": 3
   },
   "file_extension": ".py",
   "mimetype": "text/x-python",
   "name": "python",
   "nbconvert_exporter": "python",
   "pygments_lexer": "ipython3",
   "version": "3.6.13"
  }
 },
 "nbformat": 4,
 "nbformat_minor": 5
}
