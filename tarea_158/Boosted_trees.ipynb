{
 "cells": [
  {
   "cell_type": "markdown",
   "id": "8e723a2e",
   "metadata": {},
   "source": [
    "# XGBoost"
   ]
  },
  {
   "cell_type": "markdown",
   "id": "a12235b0",
   "metadata": {
    "ExecuteTime": {
     "end_time": "2022-03-12T12:23:25.039937Z",
     "start_time": "2022-03-12T12:23:25.012490Z"
    }
   },
   "source": [
    "Install with<p>\n",
    "pip install xgboost\n"
   ]
  },
  {
   "cell_type": "code",
   "execution_count": 1,
   "id": "8b39a8ae",
   "metadata": {
    "ExecuteTime": {
     "end_time": "2022-03-13T15:31:10.564631Z",
     "start_time": "2022-03-13T15:31:10.548215Z"
    }
   },
   "outputs": [],
   "source": [
    "#!pip install xgboost pandas sklearn matplotlib numpy seaborn"
   ]
  },
  {
   "cell_type": "code",
   "execution_count": 2,
   "id": "c81c1788",
   "metadata": {
    "ExecuteTime": {
     "end_time": "2022-03-13T15:31:11.890603Z",
     "start_time": "2022-03-13T15:31:11.172658Z"
    }
   },
   "outputs": [],
   "source": [
    "import pandas as pd"
   ]
  },
  {
   "cell_type": "code",
   "execution_count": 3,
   "id": "2ed3b96e",
   "metadata": {
    "ExecuteTime": {
     "end_time": "2022-03-13T15:31:12.215210Z",
     "start_time": "2022-03-13T15:31:12.174194Z"
    },
    "scrolled": true
   },
   "outputs": [
    {
     "data": {
      "text/html": [
       "<div>\n",
       "<style scoped>\n",
       "    .dataframe tbody tr th:only-of-type {\n",
       "        vertical-align: middle;\n",
       "    }\n",
       "\n",
       "    .dataframe tbody tr th {\n",
       "        vertical-align: top;\n",
       "    }\n",
       "\n",
       "    .dataframe thead th {\n",
       "        text-align: right;\n",
       "    }\n",
       "</style>\n",
       "<table border=\"1\" class=\"dataframe\">\n",
       "  <thead>\n",
       "    <tr style=\"text-align: right;\">\n",
       "      <th></th>\n",
       "      <th>Equipo</th>\n",
       "      <th>moral_equipo</th>\n",
       "      <th>ult_5_partidos_ganados</th>\n",
       "      <th>ult_5_partidos_empate</th>\n",
       "      <th>goles_a_favor</th>\n",
       "      <th>goles_en_contra</th>\n",
       "      <th>prox_partido_local</th>\n",
       "      <th>prox_partido_gana</th>\n",
       "    </tr>\n",
       "  </thead>\n",
       "  <tbody>\n",
       "    <tr>\n",
       "      <th>0</th>\n",
       "      <td>Equipo_A</td>\n",
       "      <td>9</td>\n",
       "      <td>3</td>\n",
       "      <td>0</td>\n",
       "      <td>3</td>\n",
       "      <td>1</td>\n",
       "      <td>1</td>\n",
       "      <td>1</td>\n",
       "    </tr>\n",
       "    <tr>\n",
       "      <th>1</th>\n",
       "      <td>Equipo_A</td>\n",
       "      <td>10</td>\n",
       "      <td>4</td>\n",
       "      <td>0</td>\n",
       "      <td>5</td>\n",
       "      <td>2</td>\n",
       "      <td>0</td>\n",
       "      <td>0</td>\n",
       "    </tr>\n",
       "    <tr>\n",
       "      <th>2</th>\n",
       "      <td>Equipo_A</td>\n",
       "      <td>7</td>\n",
       "      <td>4</td>\n",
       "      <td>0</td>\n",
       "      <td>5</td>\n",
       "      <td>3</td>\n",
       "      <td>1</td>\n",
       "      <td>0</td>\n",
       "    </tr>\n",
       "    <tr>\n",
       "      <th>3</th>\n",
       "      <td>Equipo_A</td>\n",
       "      <td>7</td>\n",
       "      <td>4</td>\n",
       "      <td>1</td>\n",
       "      <td>6</td>\n",
       "      <td>4</td>\n",
       "      <td>0</td>\n",
       "      <td>0</td>\n",
       "    </tr>\n",
       "    <tr>\n",
       "      <th>4</th>\n",
       "      <td>Equipo_A</td>\n",
       "      <td>7</td>\n",
       "      <td>4</td>\n",
       "      <td>1</td>\n",
       "      <td>7</td>\n",
       "      <td>5</td>\n",
       "      <td>1</td>\n",
       "      <td>1</td>\n",
       "    </tr>\n",
       "  </tbody>\n",
       "</table>\n",
       "</div>"
      ],
      "text/plain": [
       "     Equipo  moral_equipo  ult_5_partidos_ganados  ult_5_partidos_empate  \\\n",
       "0  Equipo_A             9                       3                      0   \n",
       "1  Equipo_A            10                       4                      0   \n",
       "2  Equipo_A             7                       4                      0   \n",
       "3  Equipo_A             7                       4                      1   \n",
       "4  Equipo_A             7                       4                      1   \n",
       "\n",
       "   goles_a_favor  goles_en_contra  prox_partido_local  prox_partido_gana  \n",
       "0              3                1                   1                  1  \n",
       "1              5                2                   0                  0  \n",
       "2              5                3                   1                  0  \n",
       "3              6                4                   0                  0  \n",
       "4              7                5                   1                  1  "
      ]
     },
     "execution_count": 3,
     "metadata": {},
     "output_type": "execute_result"
    }
   ],
   "source": [
    "df = pd.read_csv(\"futbol_fantasia.csv\")\n",
    "df.head()"
   ]
  },
  {
   "cell_type": "code",
   "execution_count": 4,
   "id": "2a5d8e8e",
   "metadata": {
    "ExecuteTime": {
     "end_time": "2022-03-13T15:31:13.284561Z",
     "start_time": "2022-03-13T15:31:13.272712Z"
    }
   },
   "outputs": [
    {
     "data": {
      "text/plain": [
       "Equipo                    object\n",
       "moral_equipo               int64\n",
       "ult_5_partidos_ganados     int64\n",
       "ult_5_partidos_empate      int64\n",
       "goles_a_favor              int64\n",
       "goles_en_contra            int64\n",
       "prox_partido_local         int64\n",
       "prox_partido_gana          int64\n",
       "dtype: object"
      ]
     },
     "execution_count": 4,
     "metadata": {},
     "output_type": "execute_result"
    }
   ],
   "source": [
    "df.dtypes"
   ]
  },
  {
   "cell_type": "code",
   "execution_count": 5,
   "id": "39bf10a0",
   "metadata": {
    "ExecuteTime": {
     "end_time": "2022-03-13T15:31:16.344029Z",
     "start_time": "2022-03-13T15:31:14.363142Z"
    }
   },
   "outputs": [],
   "source": [
    "#Import Packages\n",
    "import numpy as np\n",
    "import pandas as pd\n",
    "from sklearn.metrics import confusion_matrix,classification_report\n",
    "import matplotlib.pyplot as plt\n",
    "%matplotlib inline\n",
    "import seaborn as sns"
   ]
  },
  {
   "cell_type": "code",
   "execution_count": 6,
   "id": "b2f3217a",
   "metadata": {
    "ExecuteTime": {
     "end_time": "2022-03-13T15:24:59.568704Z",
     "start_time": "2022-03-13T15:24:59.549215Z"
    }
   },
   "outputs": [
    {
     "data": {
      "text/plain": [
       "array([1, 0, 0, 0, 1, 1, 1, 0, 0, 1, 0, 0, 0, 0, 0, 0, 0, 0, 0, 0, 0, 1,\n",
       "       1, 0, 0, 0, 1, 1, 0, 0, 0, 0, 0, 0, 1, 0, 1, 0, 1, 0, 1, 0, 1, 0,\n",
       "       0, 0, 1, 0, 1, 0, 0, 1, 1, 1, 1, 1, 1, 0, 0, 1, 0, 0, 0, 0, 0, 0,\n",
       "       1, 0, 0, 0, 0, 0, 0, 1, 0])"
      ]
     },
     "execution_count": 6,
     "metadata": {},
     "output_type": "execute_result"
    }
   ],
   "source": [
    "df['prox_partido_gana'].values"
   ]
  },
  {
   "cell_type": "code",
   "execution_count": 157,
   "id": "04b787c9",
   "metadata": {
    "ExecuteTime": {
     "end_time": "2022-03-13T16:59:57.627208Z",
     "start_time": "2022-03-13T16:59:57.606093Z"
    }
   },
   "outputs": [],
   "source": [
    "from sklearn.model_selection import train_test_split\n",
    "X = df.drop(['Equipo','prox_partido_gana'],axis=1)\n",
    "y = df['prox_partido_gana'].values\n",
    "X_train, X_test, y_train, y_test = train_test_split(X, y, test_size=26, stratify=y, random_state=431)"
   ]
  },
  {
   "cell_type": "code",
   "execution_count": null,
   "id": "3f37261d",
   "metadata": {
    "ExecuteTime": {
     "end_time": "2022-03-13T16:59:58.305664Z",
     "start_time": "2022-03-13T16:59:58.138388Z"
    }
   },
   "outputs": [],
   "source": [
    "import xgboost\n",
    "model = xgboost.XGBClassifier(use_label_encoder=False)\n",
    "model.fit(X_train,y_train)\n",
    "# accuracy obtenido en Train\n",
    "model.score(X_train,y_train)"
   ]
  },
  {
   "cell_type": "code",
   "execution_count": 159,
   "id": "0e558157",
   "metadata": {
    "ExecuteTime": {
     "end_time": "2022-03-13T17:00:02.199955Z",
     "start_time": "2022-03-13T17:00:01.922107Z"
    }
   },
   "outputs": [
    {
     "name": "stdout",
     "output_type": "stream",
     "text": [
      "              precision    recall  f1-score   support\n",
      "\n",
      "           0       0.83      0.88      0.86        17\n",
      "           1       0.75      0.67      0.71         9\n",
      "\n",
      "    accuracy                           0.81        26\n",
      "   macro avg       0.79      0.77      0.78        26\n",
      "weighted avg       0.80      0.81      0.80        26\n",
      "\n"
     ]
    },
    {
     "data": {
      "image/png": "[encoded data removed]",
      "text/plain": [
       "<Figure size 432x288 with 2 Axes>"
      ]
     },
     "metadata": {
      "needs_background": "light"
     },
     "output_type": "display_data"
    }
   ],
   "source": [
    "# accuracy en Test\n",
    "y_pred = model.predict(X_test)\n",
    "cm = confusion_matrix(y_test,y_pred)\n",
    "sns.heatmap(cm,annot=True)\n",
    "\n",
    "#Classification Report\n",
    "print(classification_report(y_test,y_pred))"
   ]
  },
  {
   "cell_type": "markdown",
   "id": "db935e15",
   "metadata": {
    "ExecuteTime": {
     "end_time": "2022-03-13T15:21:44.227118Z",
     "start_time": "2022-03-13T15:21:44.221569Z"
    }
   },
   "source": [
    "## Importancia de características"
   ]
  },
  {
   "cell_type": "code",
   "execution_count": 160,
   "id": "d13fd1ff",
   "metadata": {
    "ExecuteTime": {
     "end_time": "2022-03-13T17:00:07.826267Z",
     "start_time": "2022-03-13T17:00:07.554002Z"
    },
    "scrolled": false
   },
   "outputs": [
    {
     "data": {
      "text/plain": [
       "Text(0.5, 1.0, 'Feature Importance')"
      ]
     },
     "execution_count": 160,
     "metadata": {},
     "output_type": "execute_result"
    },
    {
     "data": {
      "image/png": "[encoded data removed]",
      "text/plain": [
       "<Figure size 864x432 with 1 Axes>"
      ]
     },
     "metadata": {
      "needs_background": "light"
     },
     "output_type": "display_data"
    }
   ],
   "source": [
    "feature_importance = model.feature_importances_\n",
    "sorted_idx = np.argsort(feature_importance)\n",
    "fig = plt.figure(figsize=(12, 6))\n",
    "plt.barh(range(len(sorted_idx)), feature_importance[sorted_idx], align='center')\n",
    "plt.yticks(range(len(sorted_idx)), np.array(X_test.columns)[sorted_idx])\n",
    "plt.title('Feature Importance')"
   ]
  },
  {
   "cell_type": "code",
   "execution_count": 165,
   "id": "b983c0ae",
   "metadata": {
    "ExecuteTime": {
     "end_time": "2022-03-13T17:07:08.266861Z",
     "start_time": "2022-03-13T17:07:08.260826Z"
    }
   },
   "outputs": [],
   "source": [
    "#!pip install graphviz\n"
   ]
  },
  {
   "cell_type": "code",
   "execution_count": null,
   "id": "ca3a40c6",
   "metadata": {
    "ExecuteTime": {
     "end_time": "2022-03-13T17:07:11.808590Z",
     "start_time": "2022-03-13T17:07:11.238284Z"
    }
   },
   "outputs": [],
   "source": [
    "# Si tienes instalado graphviz, puedes graficar su estructura interior\n",
    "#import graphviz\n",
    "#fig, ax = plt.subplots(figsize=(30, 30))\n",
    "#xgboost.plot_tree(model, num_trees=4, ax=ax)\n",
    "#plt.show()"
   ]
  },
  {
   "cell_type": "markdown",
   "id": "2638ca53",
   "metadata": {},
   "source": [
    "# LightGBM"
   ]
  },
  {
   "cell_type": "code",
   "execution_count": 70,
   "id": "5b4d327b",
   "metadata": {
    "ExecuteTime": {
     "end_time": "2022-03-13T15:42:00.886849Z",
     "start_time": "2022-03-13T15:42:00.872840Z"
    }
   },
   "outputs": [],
   "source": [
    "#!pip install lightgbm"
   ]
  },
  {
   "cell_type": "code",
   "execution_count": 71,
   "id": "4a2fb88f",
   "metadata": {
    "ExecuteTime": {
     "end_time": "2022-03-13T15:42:01.461721Z",
     "start_time": "2022-03-13T15:42:01.395918Z"
    }
   },
   "outputs": [],
   "source": [
    "import lightgbm as lgb"
   ]
  },
  {
   "cell_type": "code",
   "execution_count": 72,
   "id": "06d70cdb",
   "metadata": {
    "ExecuteTime": {
     "end_time": "2022-03-13T15:42:01.871884Z",
     "start_time": "2022-03-13T15:42:01.866243Z"
    }
   },
   "outputs": [],
   "source": [
    "train_data = lgb.Dataset(X_train, label=y_train)"
   ]
  },
  {
   "cell_type": "code",
   "execution_count": 168,
   "id": "bdb8366b",
   "metadata": {
    "ExecuteTime": {
     "end_time": "2022-03-13T17:40:34.357910Z",
     "start_time": "2022-03-13T17:40:34.149400Z"
    }
   },
   "outputs": [
    {
     "name": "stdout",
     "output_type": "stream",
     "text": [
      "[1]\tvalid_0's binary_logloss: 0.634683\n",
      "[2]\tvalid_0's binary_logloss: 0.625135\n",
      "[3]\tvalid_0's binary_logloss: 0.617449\n",
      "[4]\tvalid_0's binary_logloss: 0.609733\n",
      "[5]\tvalid_0's binary_logloss: 0.603517\n",
      "[6]\tvalid_0's binary_logloss: 0.597232\n",
      "[7]\tvalid_0's binary_logloss: 0.592169\n",
      "[8]\tvalid_0's binary_logloss: 0.587015\n",
      "[9]\tvalid_0's binary_logloss: 0.582865\n",
      "[10]\tvalid_0's binary_logloss: 0.578613\n",
      "[11]\tvalid_0's binary_logloss: 0.575191\n",
      "[12]\tvalid_0's binary_logloss: 0.571664\n",
      "[13]\tvalid_0's binary_logloss: 0.568828\n",
      "[14]\tvalid_0's binary_logloss: 0.565887\n",
      "[15]\tvalid_0's binary_logloss: 0.563526\n",
      "[16]\tvalid_0's binary_logloss: 0.561062\n",
      "[17]\tvalid_0's binary_logloss: 0.562192\n",
      "[18]\tvalid_0's binary_logloss: 0.560215\n",
      "[19]\tvalid_0's binary_logloss: 0.561296\n",
      "[20]\tvalid_0's binary_logloss: 0.559193\n",
      "[21]\tvalid_0's binary_logloss: 0.557531\n",
      "[22]\tvalid_0's binary_logloss: 0.55856\n",
      "[23]\tvalid_0's binary_logloss: 0.55677\n",
      "[24]\tvalid_0's binary_logloss: 0.557746\n",
      "[25]\tvalid_0's binary_logloss: 0.556342\n",
      "[26]\tvalid_0's binary_logloss: 0.554812\n",
      "[27]\tvalid_0's binary_logloss: 0.55573\n",
      "[28]\tvalid_0's binary_logloss: 0.555673\n",
      "[29]\tvalid_0's binary_logloss: 0.554351\n",
      "[30]\tvalid_0's binary_logloss: 0.555195\n",
      "[31]\tvalid_0's binary_logloss: 0.554087\n",
      "[32]\tvalid_0's binary_logloss: 0.554067\n",
      "[33]\tvalid_0's binary_logloss: 0.554834\n",
      "[34]\tvalid_0's binary_logloss: 0.553724\n",
      "[35]\tvalid_0's binary_logloss: 0.55281\n",
      "[36]\tvalid_0's binary_logloss: 0.553524\n",
      "[37]\tvalid_0's binary_logloss: 0.552569\n",
      "[38]\tvalid_0's binary_logloss: 0.552572\n",
      "[39]\tvalid_0's binary_logloss: 0.553224\n",
      "[40]\tvalid_0's binary_logloss: 0.552464\n"
     ]
    }
   ],
   "source": [
    "validation_data = lgb.Dataset(X_test, label=y_test)\n",
    "param = {'max_depth': 4, 'objective': 'binary','verbose': -1}\n",
    "#param['metric'] = 'auc'\n",
    "num_round = 40\n",
    "bst = lgb.train(param, train_data, num_round, valid_sets=[validation_data])"
   ]
  },
  {
   "cell_type": "code",
   "execution_count": 143,
   "id": "d6cf2f9f",
   "metadata": {
    "ExecuteTime": {
     "end_time": "2022-03-13T15:59:56.451824Z",
     "start_time": "2022-03-13T15:59:56.406649Z"
    }
   },
   "outputs": [
    {
     "name": "stdout",
     "output_type": "stream",
     "text": [
      "0.6938775510204082\n"
     ]
    }
   ],
   "source": [
    "from sklearn.metrics import accuracy_score\n",
    "print(accuracy_score(bst.predict(X_train).round(), y_train))\n"
   ]
  },
  {
   "cell_type": "code",
   "execution_count": 169,
   "id": "989b22f4",
   "metadata": {
    "ExecuteTime": {
     "end_time": "2022-03-13T17:41:03.213792Z",
     "start_time": "2022-03-13T17:41:02.710830Z"
    }
   },
   "outputs": [
    {
     "name": "stdout",
     "output_type": "stream",
     "text": [
      "              precision    recall  f1-score   support\n",
      "\n",
      "           0       0.83      0.88      0.86        17\n",
      "           1       0.75      0.67      0.71         9\n",
      "\n",
      "    accuracy                           0.81        26\n",
      "   macro avg       0.79      0.77      0.78        26\n",
      "weighted avg       0.80      0.81      0.80        26\n",
      "\n"
     ]
    },
    {
     "data": {
      "image/png": "[encoded data removed]",
      "text/plain": [
       "<Figure size 432x288 with 2 Axes>"
      ]
     },
     "metadata": {
      "needs_background": "light"
     },
     "output_type": "display_data"
    }
   ],
   "source": [
    "ypred = bst.predict(X_test)\n",
    "y_pred = model.predict(X_test).round()\n",
    "cm = confusion_matrix(y_test,y_pred)\n",
    "sns.heatmap(cm,annot=True)\n",
    "\n",
    "print(classification_report(y_test,y_pred))"
   ]
  },
  {
   "cell_type": "code",
   "execution_count": 145,
   "id": "1d897f27",
   "metadata": {
    "ExecuteTime": {
     "end_time": "2022-03-13T16:00:04.730775Z",
     "start_time": "2022-03-13T16:00:04.462128Z"
    }
   },
   "outputs": [
    {
     "data": {
      "text/plain": [
       "<AxesSubplot:ylabel='Feature'>"
      ]
     },
     "execution_count": 145,
     "metadata": {},
     "output_type": "execute_result"
    },
    {
     "data": {
      "image/png": "[encoded data removed]",
      "text/plain": [
       "<Figure size 432x288 with 1 Axes>"
      ]
     },
     "metadata": {
      "needs_background": "light"
     },
     "output_type": "display_data"
    }
   ],
   "source": [
    "features = X_train.columns\n",
    "df_plot=pd.DataFrame({'Feature':features,'Value':bst.feature_importance()}).sort_values(by=\"Value\",ascending=True)\n",
    "df_plot.plot.barh(y='Value',x='Feature')"
   ]
  },
  {
   "cell_type": "markdown",
   "id": "c7c3dae0",
   "metadata": {},
   "source": [
    "# Adaboost"
   ]
  },
  {
   "cell_type": "code",
   "execution_count": 77,
   "id": "aa430599",
   "metadata": {
    "ExecuteTime": {
     "end_time": "2022-03-13T15:42:21.871982Z",
     "start_time": "2022-03-13T15:42:21.607193Z"
    }
   },
   "outputs": [],
   "source": [
    "from sklearn.ensemble import AdaBoostClassifier"
   ]
  },
  {
   "cell_type": "code",
   "execution_count": 172,
   "id": "a445585c",
   "metadata": {
    "ExecuteTime": {
     "end_time": "2022-03-13T17:46:48.864115Z",
     "start_time": "2022-03-13T17:46:48.307711Z"
    }
   },
   "outputs": [
    {
     "name": "stdout",
     "output_type": "stream",
     "text": [
      "0.7755102040816326\n",
      "              precision    recall  f1-score   support\n",
      "\n",
      "           0       0.70      0.94      0.80        17\n",
      "           1       0.67      0.22      0.33         9\n",
      "\n",
      "    accuracy                           0.69        26\n",
      "   macro avg       0.68      0.58      0.57        26\n",
      "weighted avg       0.69      0.69      0.64        26\n",
      "\n"
     ]
    },
    {
     "data": {
      "image/png": "[encoded data removed]",
      "text/plain": [
       "<Figure size 432x288 with 2 Axes>"
      ]
     },
     "metadata": {
      "needs_background": "light"
     },
     "output_type": "display_data"
    }
   ],
   "source": [
    "clf = AdaBoostClassifier(learning_rate=0.1, n_estimators=40, random_state=0)\n",
    "clf.fit(X_train, y_train)\n",
    "\n",
    "print(clf.score(X_train,y_train))\n",
    "\n",
    "y_pred = clf.predict(X_test)\n",
    "cm = confusion_matrix(y_test,y_pred)\n",
    "sns.heatmap(cm,annot=True)\n",
    "print(classification_report(y_test,y_pred))"
   ]
  },
  {
   "cell_type": "code",
   "execution_count": 173,
   "id": "7d4e502a",
   "metadata": {
    "ExecuteTime": {
     "end_time": "2022-03-13T17:46:52.242985Z",
     "start_time": "2022-03-13T17:46:51.747015Z"
    }
   },
   "outputs": [
    {
     "data": {
      "text/plain": [
       "Text(0.5, 1.0, 'Feature Importance')"
      ]
     },
     "execution_count": 173,
     "metadata": {},
     "output_type": "execute_result"
    },
    {
     "data": {
      "image/png": "[encoded data removed]",
      "text/plain": [
       "<Figure size 864x432 with 1 Axes>"
      ]
     },
     "metadata": {
      "needs_background": "light"
     },
     "output_type": "display_data"
    }
   ],
   "source": [
    "feature_importance = clf.feature_importances_\n",
    "sorted_idx = np.argsort(feature_importance)\n",
    "fig = plt.figure(figsize=(12, 6))\n",
    "plt.barh(range(len(sorted_idx)), feature_importance[sorted_idx], align='center')\n",
    "plt.yticks(range(len(sorted_idx)), np.array(X_test.columns)[sorted_idx])\n",
    "plt.title('Feature Importance')"
   ]
  },
  {
   "cell_type": "code",
   "execution_count": null,
   "id": "b9ea1903",
   "metadata": {},
   "outputs": [],
   "source": []
  }
 ],
 "metadata": {
  "kernelspec": {
   "display_name": "Python 3 (ipykernel)",
   "language": "python",
   "name": "python3"
  },
  "language_info": {
   "codemirror_mode": {
    "name": "ipython",
    "version": 3
   },
   "file_extension": ".py",
   "mimetype": "text/x-python",
   "name": "python",
   "nbconvert_exporter": "python",
   "pygments_lexer": "ipython3",
   "version": "3.7.11"
  }
 },
 "nbformat": 4,
 "nbformat_minor": 5
}
