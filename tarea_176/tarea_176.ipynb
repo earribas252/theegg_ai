{
 "cells": [
  {
   "cell_type": "code",
   "execution_count": 5,
   "id": "af7ab10e",
   "metadata": {},
   "outputs": [
    {
     "name": "stdout",
     "output_type": "stream",
     "text": [
      "3\n"
     ]
    }
   ],
   "source": [
    "#Primer programa\n",
    "a, b, c = 1, 2, 3\n",
    "print (max(a,b,c))"
   ]
  },
  {
   "cell_type": "code",
   "execution_count": 6,
   "id": "4d8b369d",
   "metadata": {},
   "outputs": [
    {
     "data": {
      "text/plain": [
       "27"
      ]
     },
     "execution_count": 6,
     "metadata": {},
     "output_type": "execute_result"
    }
   ],
   "source": [
    "#Segundo programa\n",
    "frase = \"Esta es una frase de prueba\"\n",
    "len (frase)"
   ]
  },
  {
   "cell_type": "code",
   "execution_count": 15,
   "id": "aad7b44c",
   "metadata": {},
   "outputs": [
    {
     "name": "stdout",
     "output_type": "stream",
     "text": [
      "Vocal\n"
     ]
    }
   ],
   "source": [
    "#Tercer programa\n",
    "vocales = [\"a\",\"e\",\"i\",\"o\",\"u\",\"A\",\"E\",\"I\",\"O\",\"U\"]\n",
    "caracter = \"u\"\n",
    "if caracter in vocales[:]:\n",
    "    print (\"Vocal\")\n",
    "else: \n",
    "    print (\"No es vocal\")"
   ]
  },
  {
   "cell_type": "code",
   "execution_count": 23,
   "id": "13469e0e",
   "metadata": {},
   "outputs": [
    {
     "name": "stdout",
     "output_type": "stream",
     "text": [
      "28\n"
     ]
    }
   ],
   "source": [
    "#Cuarto programa\n",
    "lista = [1,2,3,4,5,6,7]\n",
    "suma = sum (lista)\n",
    "print (suma)\n"
   ]
  },
  {
   "cell_type": "code",
   "execution_count": 25,
   "id": "1a7d989c",
   "metadata": {},
   "outputs": [
    {
     "name": "stdout",
     "output_type": "stream",
     "text": [
      "No es palíndromo\n"
     ]
    }
   ],
   "source": [
    "#Quinto programa\n",
    "palabra = \"hola\"\n",
    "if palabra == palabra[::-1]:\n",
    "    print (\"Es palíndromo\")\n",
    "else:\n",
    "    print (\"No es palíndromo\")"
   ]
  },
  {
   "cell_type": "code",
   "execution_count": 78,
   "id": "72e30450",
   "metadata": {},
   "outputs": [
    {
     "name": "stdout",
     "output_type": "stream",
     "text": [
      "Hay valor coincidente y se repite 4 veces\n"
     ]
    }
   ],
   "source": [
    "#Sexto programa\n",
    "lista_1 = [1,2,3,4,5,6,7,7]\n",
    "lista_2 = [7,8,9,10,11,12,13,7]\n",
    "repeticion_1 = repeticion_2 = repeticion_total =0\n",
    "\n",
    "for n in lista_1:\n",
    "    if lista_1[n-1] in lista_2:\n",
    "        repeticion_1 +=1\n",
    "        valor = lista_1[n-1]\n",
    "\n",
    "for m in lista_2:\n",
    "    if m == valor:\n",
    "            repeticion_2 +=1\n",
    "        \n",
    "repeticion_total = repeticion_1 + repeticion_2\n",
    "        \n",
    "if repeticion ==0 :\n",
    "    print (\"No hay valor coincidente\")\n",
    "elif repeticion ==1:\n",
    "    print (\"Hay valor coincidente y se repite \" + str(repeticion_total)+ \" vez\")\n",
    "else: \n",
    "    print (\"Hay valor coincidente y se repite \" + str(repeticion_total)+ \" veces\")"
   ]
  },
  {
   "cell_type": "code",
   "execution_count": null,
   "id": "fc9392c5",
   "metadata": {},
   "outputs": [],
   "source": []
  }
 ],
 "metadata": {
  "kernelspec": {
   "display_name": "Python 3 (ipykernel)",
   "language": "python",
   "name": "python3"
  },
  "language_info": {
   "codemirror_mode": {
    "name": "ipython",
    "version": 3
   },
   "file_extension": ".py",
   "mimetype": "text/x-python",
   "name": "python",
   "nbconvert_exporter": "python",
   "pygments_lexer": "ipython3",
   "version": "3.11.4"
  }
 },
 "nbformat": 4,
 "nbformat_minor": 5
}
