{
 "cells": [
  {
   "cell_type": "code",
   "execution_count": null,
   "id": "e9d0a643",
   "metadata": {},
   "outputs": [],
   "source": [
    "def conseguir_lado_positivo():\n",
    "    while True:\n",
    "        try:\n",
    "            lado = float(input(\"Introduzca el valor del lado: \"))\n",
    "            if lado > 0:\n",
    "                return lado\n",
    "            else: \n",
    "                print (\"Por favor, introduzca un valor positivo.\")\n",
    "        except ValueError:\n",
    "            print(\"El valor debe ser un número positivo.\")\n",
    "\n",
    "lado_positivo = conseguir_lado_positivo()\n",
    "superficie = lado_positivo ** 2\n",
    "print(f\"La superficie del cuadrado es: {superficie}\")"
   ]
  }
 ],
 "metadata": {
  "kernelspec": {
   "display_name": "Python 3 (ipykernel)",
   "language": "python",
   "name": "python3"
  },
  "language_info": {
   "codemirror_mode": {
    "name": "ipython",
    "version": 3
   },
   "file_extension": ".py",
   "mimetype": "text/x-python",
   "name": "python",
   "nbconvert_exporter": "python",
   "pygments_lexer": "ipython3",
   "version": "3.11.4"
  }
 },
 "nbformat": 4,
 "nbformat_minor": 5
}
