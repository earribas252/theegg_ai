{
 "cells": [
  {
   "cell_type": "code",
   "execution_count": 1,
   "id": "c35c546d",
   "metadata": {},
   "outputs": [
    {
     "name": "stdout",
     "output_type": "stream",
     "text": [
      "78.4\n",
      "29.6\n",
      "198.4\n"
     ]
    }
   ],
   "source": [
    "import tiempo as t\n",
    "\n",
    "print (t.Tierra(4))\n",
    "print (t.Marte(4))\n",
    "print (t.Jupiter(4))"
   ]
  }
 ],
 "metadata": {
  "kernelspec": {
   "display_name": "Python 3 (ipykernel)",
   "language": "python",
   "name": "python3"
  },
  "language_info": {
   "codemirror_mode": {
    "name": "ipython",
    "version": 3
   },
   "file_extension": ".py",
   "mimetype": "text/x-python",
   "name": "python",
   "nbconvert_exporter": "python",
   "pygments_lexer": "ipython3",
   "version": "3.11.4"
  }
 },
 "nbformat": 4,
 "nbformat_minor": 5
}
