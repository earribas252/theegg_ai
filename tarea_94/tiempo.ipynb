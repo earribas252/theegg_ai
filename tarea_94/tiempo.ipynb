{
 "cells": [
  {
   "cell_type": "code",
   "execution_count": 4,
   "id": "42227298",
   "metadata": {},
   "outputs": [],
   "source": [
    "# Módulo para averiguar a cuanta altura estaría un objeto si introducimos los segundos de caída de objeto en diferentes gravedades.\n",
    "def Tierra (t: int) -> float:\n",
    "    gravedad = 9.8 \n",
    "    h = (1/2)* gravedad * (t**2)\n",
    "    return h\n",
    "\n",
    "def Marte (t: int) -> float:\n",
    "    gravedad = 3.7\n",
    "    h = (1/2)* gravedad * (t**2)\n",
    "    return h\n",
    "\n",
    "def Jupiter (t: int) -> float:\n",
    "    gravedad = 24.8\n",
    "    h = (1/2)* gravedad * (t**2)\n",
    "    return h\n"
   ]
  },
  {
   "cell_type": "code",
   "execution_count": null,
   "id": "ff827f94",
   "metadata": {},
   "outputs": [],
   "source": []
  }
 ],
 "metadata": {
  "kernelspec": {
   "display_name": "Python 3 (ipykernel)",
   "language": "python",
   "name": "python3"
  },
  "language_info": {
   "codemirror_mode": {
    "name": "ipython",
    "version": 3
   },
   "file_extension": ".py",
   "mimetype": "text/x-python",
   "name": "python",
   "nbconvert_exporter": "python",
   "pygments_lexer": "ipython3",
   "version": "3.11.4"
  }
 },
 "nbformat": 4,
 "nbformat_minor": 5
}
